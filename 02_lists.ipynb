{
  "nbformat": 4,
  "nbformat_minor": 0,
  "metadata": {
    "colab": {
      "provenance": [],
      "authorship_tag": "ABX9TyOlNlzgNsOy9iSryXJhcVkJ",
      "include_colab_link": true
    },
    "kernelspec": {
      "name": "python3",
      "display_name": "Python 3"
    },
    "language_info": {
      "name": "python"
    }
  },
  "cells": [
    {
      "cell_type": "markdown",
      "metadata": {
        "id": "view-in-github",
        "colab_type": "text"
      },
      "source": [
        "<a href=\"https://colab.research.google.com/github/Tariqkhan61/Project-4-Assignment/blob/main/02_lists.ipynb\" target=\"_parent\"><img src=\"https://colab.research.google.com/assets/colab-badge.svg\" alt=\"Open In Colab\"/></a>"
      ]
    },
    {
      "cell_type": "code",
      "execution_count": null,
      "metadata": {
        "id": "0a2KZQUZsguW"
      },
      "outputs": [],
      "source": []
    },
    {
      "cell_type": "markdown",
      "source": [
        "#**01_add_many_number.md**"
      ],
      "metadata": {
        "id": "QZy_6EupsshQ"
      }
    },
    {
      "cell_type": "code",
      "source": [
        "def main(numbers):\n",
        "    total_so_far: int = 0\n",
        "    for number in numbers:\n",
        "        total_so_far += number\n",
        "    return total_so_far\n",
        "\n",
        "# Example usage\n",
        "if __name__ == \"__main__\":\n",
        "    numbers_list = [1, 2, 3, 4, 5]\n",
        "    result = main(numbers_list)\n",
        "    print(\"The sum is:\", result)\n",
        "\n"
      ],
      "metadata": {
        "colab": {
          "base_uri": "https://localhost:8080/"
        },
        "id": "pzFXMWJ2s2Eq",
        "outputId": "3e323e66-a29a-41d6-9e39-5f0b6729e555"
      },
      "execution_count": null,
      "outputs": [
        {
          "output_type": "stream",
          "name": "stdout",
          "text": [
            "The sum is: 15\n"
          ]
        }
      ]
    },
    {
      "cell_type": "markdown",
      "source": [
        "#**02_double_list.md**"
      ],
      "metadata": {
        "id": "VDgFA3RouStp"
      }
    },
    {
      "cell_type": "code",
      "source": [
        "def main():\n",
        "    numbers = [1, 2, 3, 4]\n",
        "    for i in range(len(numbers)):\n",
        "        numbers[i] *= 2\n",
        "    print(\"Doubled list:\", numbers)\n",
        "\n",
        "# Run the program\n",
        "if __name__ == \"__main__\":\n",
        "    main()\n"
      ],
      "metadata": {
        "colab": {
          "base_uri": "https://localhost:8080/"
        },
        "id": "ou6MuggDubhe",
        "outputId": "431848a6-a961-416b-efe6-ea798d9cfc34"
      },
      "execution_count": null,
      "outputs": [
        {
          "output_type": "stream",
          "name": "stdout",
          "text": [
            "Doubled list: [2, 4, 6, 8]\n"
          ]
        }
      ]
    },
    {
      "cell_type": "markdown",
      "source": [
        "#**03_erase_canvas.md**"
      ],
      "metadata": {
        "id": "yN-ukUT-u9nm"
      }
    },
    {
      "cell_type": "code",
      "source": [
        "import matplotlib.pyplot as plt\n",
        "import numpy as np\n",
        "import matplotlib.patches as patches\n",
        "\n",
        "CANVAS_WIDTH, CANVAS_HEIGHT = 400, 400\n",
        "CELL_SIZE, ERASER_SIZE = 40, 20\n",
        "\n",
        "class InteractiveEraser:\n",
        "    def __init__(self):\n",
        "        self.fig, self.ax = plt.subplots()\n",
        "        self.fig.canvas.mpl_connect('motion_notify_event', self.on_mouse_move)\n",
        "        self.rects = []\n",
        "        self.create_grid()\n",
        "        self.eraser = patches.Rectangle((0, 0), ERASER_SIZE, ERASER_SIZE, color='pink', alpha=0.7)\n",
        "        self.ax.add_patch(self.eraser)\n",
        "        plt.show()\n",
        "\n",
        "    def create_grid(self):\n",
        "        \"\"\"Creates a grid of blue rectangles\"\"\"\n",
        "        for x in range(0, CANVAS_WIDTH, CELL_SIZE):\n",
        "            for y in range(0, CANVAS_HEIGHT, CELL_SIZE):\n",
        "                rect = patches.Rectangle((x, y), CELL_SIZE, CELL_SIZE, color='blue')\n",
        "                self.rects.append(rect)\n",
        "                self.ax.add_patch(rect)\n",
        "        self.ax.set_xlim(0, CANVAS_WIDTH)\n",
        "        self.ax.set_ylim(0, CANVAS_HEIGHT)\n",
        "        self.ax.set_xticks([])\n",
        "        self.ax.set_yticks([])\n",
        "        self.ax.set_frame_on(False)\n",
        "\n",
        "    def on_mouse_move(self, event):\n",
        "        \"\"\"Moves the eraser and turns affected rectangles white\"\"\"\n",
        "        if event.xdata is None or event.ydata is None:\n",
        "            return\n",
        "        self.eraser.set_xy((event.xdata, event.ydata))\n",
        "\n",
        "        for rect in self.rects:\n",
        "            x, y = rect.get_xy()\n",
        "            if x < event.xdata < x + CELL_SIZE and y < event.ydata < y + CELL_SIZE:\n",
        "                rect.set_color('white')\n",
        "\n",
        "        self.fig.canvas.draw()\n",
        "\n",
        "InteractiveEraser()"
      ],
      "metadata": {
        "id": "3mBeyv66wP3G"
      },
      "execution_count": null,
      "outputs": []
    },
    {
      "cell_type": "markdown",
      "source": [
        "# **04_flowing_with_data_structures.md**"
      ],
      "metadata": {
        "id": "ZandVPSvCTm8"
      }
    },
    {
      "cell_type": "code",
      "source": [
        "def add_three_copies(data_list, data):\n",
        "    # Add three copies of `data` to `data_list`\n",
        "    for _ in range(3):\n",
        "        data_list.append(data)\n",
        "\n",
        "def main():\n",
        "    # Ask the user for a message\n",
        "    message = input(\"Enter a message to copy: \")\n",
        "\n",
        "    # Initialize an empty list\n",
        "    messages = []\n",
        "\n",
        "    print(\"List before:\", messages)\n",
        "\n",
        "    # Call the function to add three copies to the list\n",
        "    add_three_copies(messages, message)\n",
        "\n",
        "    print(\"List after:\", messages)\n",
        "\n",
        "if __name__ == '__main__':\n",
        "    main()\n"
      ],
      "metadata": {
        "colab": {
          "base_uri": "https://localhost:8080/"
        },
        "id": "9hgstNYRCnpa",
        "outputId": "8153abb5-0f51-4f11-ae60-286203a8af0c"
      },
      "execution_count": 1,
      "outputs": [
        {
          "output_type": "stream",
          "name": "stdout",
          "text": [
            "Enter a message to copy: I am learning OOPs\n",
            "List before: []\n",
            "List after: ['I am learning OOPs', 'I am learning OOPs', 'I am learning OOPs']\n"
          ]
        }
      ]
    }
  ]
}