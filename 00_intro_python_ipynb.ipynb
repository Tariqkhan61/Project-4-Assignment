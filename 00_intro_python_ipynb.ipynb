{
  "nbformat": 4,
  "nbformat_minor": 0,
  "metadata": {
    "colab": {
      "provenance": [],
      "authorship_tag": "ABX9TyNIWLbs1DYWqnhp55dkk18x",
      "include_colab_link": true
    },
    "kernelspec": {
      "name": "python3",
      "display_name": "Python 3"
    },
    "language_info": {
      "name": "python"
    }
  },
  "cells": [
    {
      "cell_type": "markdown",
      "metadata": {
        "id": "view-in-github",
        "colab_type": "text"
      },
      "source": [
        "<a href=\"https://colab.research.google.com/github/Tariqkhan61/Project-4-Assignment/blob/main/00_intro_python_ipynb.ipynb\" target=\"_parent\"><img src=\"https://colab.research.google.com/assets/colab-badge.svg\" alt=\"Open In Colab\"/></a>"
      ]
    },
    {
      "cell_type": "code",
      "execution_count": null,
      "metadata": {
        "id": "YVruD8gtJ6Q1"
      },
      "outputs": [],
      "source": []
    },
    {
      "cell_type": "markdown",
      "source": [
        "#**01_add_two_numbers.md**\n",
        "**Calculate the two Numbers & Print the total sum**\n"
      ],
      "metadata": {
        "id": "wcW-4fjNKMYR"
      }
    },
    {
      "cell_type": "code",
      "source": [
        "\n",
        "\n",
        "def main():\n",
        "    # Prompt the user to enter the first number\n",
        "    first_input = input(\"Enter the first number: \")\n",
        "\n",
        "    # Convert the first input to an integer\n",
        "    first_number = int(first_input)\n",
        "\n",
        "    # Prompt the user to enter the second number\n",
        "    second_input = input(\"Enter the second number: \")\n",
        "\n",
        "    # Convert the second input to an integer\n",
        "    second_number = int(second_input)\n",
        "\n",
        "    # Calculate the sum of the two numbers\n",
        "    total_sum = first_number + second_number\n",
        "\n",
        "    # Print the total sum with an appropriate message\n",
        "    print(\"The sum of\", first_number, \"and\", second_number, \"is:\", total_sum)\n",
        "\n",
        "# Call the main function\n",
        "if __name__ == \"__main__\":\n",
        "    main()\n"
      ],
      "metadata": {
        "colab": {
          "base_uri": "https://localhost:8080/"
        },
        "id": "DHJ7J5WSKQVX",
        "outputId": "09afb168-84f8-4339-9426-1c09c7784634"
      },
      "execution_count": null,
      "outputs": [
        {
          "output_type": "stream",
          "name": "stdout",
          "text": [
            "Enter the first number: 45\n",
            "Enter the second number: 56\n",
            "The sum of 45 and 56 is: 101\n"
          ]
        }
      ]
    },
    {
      "cell_type": "markdown",
      "source": [
        "#**02_agreement_bot.md**\n",
        "**My favorite animal**"
      ],
      "metadata": {
        "id": "RfzRKbS-M4Gd"
      }
    },
    {
      "cell_type": "code",
      "source": [
        "def main():\n",
        "\n",
        "    favorite_animal = input(\"What is your favorite animal? \")\n",
        "\n",
        "\n",
        "    print(\"My favorite animal is  \" + favorite_animal )\n",
        "\n",
        "# Call the main function\n",
        "if __name__ == \"__main__\":\n",
        "    main()\n"
      ],
      "metadata": {
        "colab": {
          "base_uri": "https://localhost:8080/"
        },
        "id": "4VQPvrUqNYSt",
        "outputId": "5f51caad-31c3-4ef0-ff6d-9017f2d72eb2"
      },
      "execution_count": null,
      "outputs": [
        {
          "output_type": "stream",
          "name": "stdout",
          "text": [
            "What is your favorite animal? cat\n",
            "My favorite animal is  cat\n"
          ]
        }
      ]
    },
    {
      "cell_type": "markdown",
      "source": [
        "#**03_fahrenheit_to_celsius.md**\n",
        "**convert Temp, Fahrenheit to  Celsius.**"
      ],
      "metadata": {
        "id": "-QfGlR8UPpI5"
      }
    },
    {
      "cell_type": "code",
      "source": [
        "def main():\n",
        "    # Prompt the user to enter a temperature in Fahrenheit\n",
        "    fahrenheit = float(input(\"Enter the temperature in Fahrenheit: \"))\n",
        "\n",
        "    # Convert the temperature to Celsius by using Formula\n",
        "    celsius = (fahrenheit - 32) * 5 / 9\n",
        "\n",
        "    # Display the result\n",
        "    print(f\"The temperature in Celsius is {celsius:.2f}°C\")\n",
        "\n",
        "# Call the main function\n",
        "if __name__ == \"__main__\":\n",
        "    main()\n"
      ],
      "metadata": {
        "id": "zT_iM1WaQhHP",
        "colab": {
          "base_uri": "https://localhost:8080/"
        },
        "outputId": "d4312ed3-08bf-40bb-bd1a-720953284de2"
      },
      "execution_count": null,
      "outputs": [
        {
          "output_type": "stream",
          "name": "stdout",
          "text": [
            "Enter the temperature in Fahrenheit: 103.5\n",
            "The temperature in Celsius is 39.72°C\n"
          ]
        }
      ]
    },
    {
      "cell_type": "markdown",
      "source": [
        "#**04_how_old_are_they.md**\n"
      ],
      "metadata": {
        "id": "wbRdRRYLSFWk"
      }
    },
    {
      "cell_type": "code",
      "source": [
        "def main():\n",
        "    # Given age of Anton\n",
        "    Anton = 21\n",
        "\n",
        "    # Beth is 6 years older than Anton\n",
        "    Beth = Anton + 6\n",
        "\n",
        "    # Chen is 20 years older than Beth\n",
        "    Chen = Beth + 20\n",
        "\n",
        "    # Drew is as old as Chen's age plus Anton's age\n",
        "    Drew = Chen + Anton\n",
        "\n",
        "    # Ethan is the same age as Chen\n",
        "    Ethan = Chen\n",
        "\n",
        "    # Print each person's name and age\n",
        "    print(\"Anton is\", Anton, \"years old.\")\n",
        "    print(\"Beth is\", Beth, \"years old.\")\n",
        "    print(\"Chen is\", Chen, \"years old.\")\n",
        "    print(\"Drew is\", Drew, \"years old.\")\n",
        "    print(\"Ethan is\", Ethan, \"years old.\")\n",
        "\n",
        "# Call the main function\n",
        "if __name__ == \"__main__\":\n",
        "    main()\n"
      ],
      "metadata": {
        "id": "mGdoBuP-S3Jh",
        "outputId": "c9fe0256-cfc8-4227-8111-08d7e0db79af",
        "colab": {
          "base_uri": "https://localhost:8080/"
        }
      },
      "execution_count": null,
      "outputs": [
        {
          "output_type": "stream",
          "name": "stdout",
          "text": [
            "Anton is 21 years old.\n",
            "Beth is 27 years old.\n",
            "Chen is 47 years old.\n",
            "Drew is 68 years old.\n",
            "Ethan is 47 years old.\n"
          ]
        }
      ]
    },
    {
      "cell_type": "markdown",
      "source": [
        "#**05_triangle_perimeter.md**"
      ],
      "metadata": {
        "id": "ktHfkuB-i2CJ"
      }
    },
    {
      "cell_type": "code",
      "source": [
        "def main():\n",
        "    side1 = float(input(\"What is the length of side 1? \"))\n",
        "    side2 = float(input(\"What is the length of side 2? \"))\n",
        "    side3 = float(input(\"What is the length of side 3? \"))\n",
        "\n",
        "    perimeter = side1 + side2 + side3\n",
        "\n",
        "    print(\"The perimeter of the triangle is\", perimeter)\n",
        "\n",
        "# Call the main function to run the program\n",
        "main()\n"
      ],
      "metadata": {
        "colab": {
          "base_uri": "https://localhost:8080/"
        },
        "id": "sPw23HCBjCAP",
        "outputId": "5fab982f-df41-4cce-9241-6b7b70d7c0ea"
      },
      "execution_count": null,
      "outputs": [
        {
          "output_type": "stream",
          "name": "stdout",
          "text": [
            "What is the length of side 1? 2.56\n",
            "What is the length of side 2? 3.67\n",
            "What is the length of side 3? 4.2\n",
            "The perimeter of the triangle is 10.43\n"
          ]
        }
      ]
    },
    {
      "cell_type": "markdown",
      "source": [
        "#**06_square_number.md**"
      ],
      "metadata": {
        "id": "IHkPcW9KqKWC"
      }
    },
    {
      "cell_type": "code",
      "source": [
        "def main():\n",
        "    number = float(input(\"Type a number to see its square: \"))\n",
        "    square = number * number\n",
        "    print(f\"{number} squared is {square}\")\n",
        "\n",
        "# Call the main function\n",
        "main()\n"
      ],
      "metadata": {
        "colab": {
          "base_uri": "https://localhost:8080/"
        },
        "id": "k9Xmt6Y0qOfr",
        "outputId": "8de68c3b-eaa2-4019-e225-59180b37371b"
      },
      "execution_count": null,
      "outputs": [
        {
          "output_type": "stream",
          "name": "stdout",
          "text": [
            "Type a number to see its square: 23.5\n",
            "23.5 squared is 552.25\n"
          ]
        }
      ]
    }
  ]
}