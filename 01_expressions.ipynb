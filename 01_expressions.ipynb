{
  "nbformat": 4,
  "nbformat_minor": 0,
  "metadata": {
    "colab": {
      "provenance": [],
      "authorship_tag": "ABX9TyNvpsEa/2zCVoaQd/0Sbpc0",
      "include_colab_link": true
    },
    "kernelspec": {
      "name": "python3",
      "display_name": "Python 3"
    },
    "language_info": {
      "name": "python"
    }
  },
  "cells": [
    {
      "cell_type": "markdown",
      "metadata": {
        "id": "view-in-github",
        "colab_type": "text"
      },
      "source": [
        "<a href=\"https://colab.research.google.com/github/Tariqkhan61/Project-4-Assignment/blob/main/01_expressions.ipynb\" target=\"_parent\"><img src=\"https://colab.research.google.com/assets/colab-badge.svg\" alt=\"Open In Colab\"/></a>"
      ]
    },
    {
      "cell_type": "code",
      "execution_count": null,
      "metadata": {
        "id": "Tsq8EsFZZY7N"
      },
      "outputs": [],
      "source": []
    },
    {
      "cell_type": "markdown",
      "source": [
        "#**Rolling Two Dice, Three Times**"
      ],
      "metadata": {
        "id": "5L6DgWKBaWUr"
      }
    },
    {
      "cell_type": "code",
      "source": [
        "import random\n",
        "\n",
        "def roll_dice():\n",
        "  # Here we use Python module random and its function .randint\n",
        "    die1 = random.randint(1, 6)\n",
        "    die2 = random.randint(1, 6)\n",
        "    return die1, die2\n",
        "\n",
        "def main():\n",
        "    for i in range(1, 4):\n",
        "        die1, die2 = roll_dice()\n",
        "        print(f\"Roll {i}: Die 1 = {die1}, Die 2 = {die2}\")\n",
        "\n",
        "main()\n"
      ],
      "metadata": {
        "colab": {
          "base_uri": "https://localhost:8080/"
        },
        "id": "Td_8WTWRagZ-",
        "outputId": "b2592c12-55fa-4082-90ea-e05dbfcd457d"
      },
      "execution_count": null,
      "outputs": [
        {
          "output_type": "stream",
          "name": "stdout",
          "text": [
            "Roll 1: Die 1 = 5, Die 2 = 6\n",
            "Roll 2: Die 1 = 1, Die 2 = 6\n",
            "Roll 3: Die 1 = 5, Die 2 = 5\n"
          ]
        }
      ]
    },
    {
      "cell_type": "markdown",
      "source": [
        "#**02_e=mc2.md**"
      ],
      "metadata": {
        "id": "YOHMwGY3fytP"
      }
    },
    {
      "cell_type": "code",
      "source": [
        "def main():\n",
        "    C = 299792458  # Speed of light in meters per second (constant)\n",
        "\n",
        "    while True:\n",
        "        try:\n",
        "            mass_input = input(\"Enter kilos of mass (or type 'exit' to quit): \")\n",
        "            if mass_input.lower() == 'exit':\n",
        "                print(\"Program ended. Goodbye!\")\n",
        "                break\n",
        "\n",
        "            m = float(mass_input)  # Convert input to float\n",
        "\n",
        "            print(\"\\ne = m * C^2...\")\n",
        "            print(f\"m = {m} kg\")\n",
        "            print(f\"C = {C} m/s\")\n",
        "\n",
        "            energy = m * C**2  # Einstein's formula\n",
        "            print(f\"{energy} joules of energy!\\n\")\n",
        "\n",
        "        except ValueError:\n",
        "            print(\"Invalid input. Please enter a numeric value for mass.\\n\")\n",
        "\n",
        "# Call the main function to start the program\n",
        "main()\n"
      ],
      "metadata": {
        "id": "mx-LQ3cBf_wf",
        "colab": {
          "base_uri": "https://localhost:8080/"
        },
        "outputId": "7eadd0a9-dc07-4f22-95f9-80be9aeb5deb"
      },
      "execution_count": null,
      "outputs": [
        {
          "output_type": "stream",
          "name": "stdout",
          "text": [
            "Enter kilos of mass (or type 'exit' to quit): 5\n",
            "\n",
            "e = m * C^2...\n",
            "m = 5.0 kg\n",
            "C = 299792458 m/s\n",
            "4.493775893684088e+17 joules of energy!\n",
            "\n",
            "Enter kilos of mass (or type 'exit' to quit): exit\n",
            "Program ended. Goodbye!\n"
          ]
        }
      ]
    },
    {
      "cell_type": "markdown",
      "source": [
        "#**03_feet_to_inches.md**"
      ],
      "metadata": {
        "id": "ILf6LQgirnrC"
      }
    },
    {
      "cell_type": "code",
      "source": [
        "def main():\n",
        "    try:\n",
        "        feet = float(input(\"Enter measurement in feet: \"))\n",
        "        inches = feet * 12\n",
        "        print(f\"{feet} feet is equal to {inches} inches.\")\n",
        "    except ValueError:\n",
        "        print(\"Please enter a valid number.\")\n",
        "\n",
        "# Function call to start the program\n",
        "main()\n"
      ],
      "metadata": {
        "colab": {
          "base_uri": "https://localhost:8080/"
        },
        "id": "I3VT5al2rsKc",
        "outputId": "c42c6863-c47f-4a19-ee55-00f6ba59e30f"
      },
      "execution_count": null,
      "outputs": [
        {
          "output_type": "stream",
          "name": "stdout",
          "text": [
            "Enter measurement in feet: 4.9\n",
            "4.9 feet is equal to 58.800000000000004 inches.\n"
          ]
        }
      ]
    },
    {
      "cell_type": "markdown",
      "source": [
        "#**04_pythagorean_theorem.md**"
      ],
      "metadata": {
        "id": "J_oeJqjus8Xj"
      }
    },
    {
      "cell_type": "code",
      "source": [
        "import math  # Math library for square root\n",
        "\n",
        "def main():\n",
        "    try:\n",
        "        ab = float(input(\"Enter the length of AB: \"))\n",
        "        ac = float(input(\"Enter the length of AC: \"))\n",
        "\n",
        "        bc = math.sqrt(ab**2 + ac**2)  # Pythagorean theorem\n",
        "        print(f\"The length of BC (the hypotenuse) is: {bc}\")\n",
        "    except ValueError:\n",
        "        print(\"Please enter valid numeric values.\")\n",
        "\n",
        "# Function call to run the program\n",
        "main()\n"
      ],
      "metadata": {
        "colab": {
          "base_uri": "https://localhost:8080/"
        },
        "id": "mZJRTlnotAT6",
        "outputId": "eca9630e-4499-406a-b56a-8e4b03ca1309"
      },
      "execution_count": null,
      "outputs": [
        {
          "output_type": "stream",
          "name": "stdout",
          "text": [
            "Enter the length of AB: 12\n",
            "Enter the length of AC: 6.5\n",
            "The length of BC (the hypotenuse) is: 13.647344063956181\n"
          ]
        }
      ]
    },
    {
      "cell_type": "markdown",
      "source": [
        "#**05_remainder_division.md**"
      ],
      "metadata": {
        "id": "x2V6lah9tzl7"
      }
    },
    {
      "cell_type": "code",
      "source": [
        "# user se do integers lena hai:\n",
        "# Pehla number: jo divide hoga\n",
        "# Doosra number: jo divide karega\n",
        "# Quotient (result of division) dikhana hai\n",
        "# Remainder (baaqi) bhi dikhana hai\n",
        "\n",
        "def main():\n",
        "    try:\n",
        "        num1 = int(input(\"Please enter an integer to be divided: \"))\n",
        "        num2 = int(input(\"Please enter an integer to divide by: \"))\n",
        "\n",
        "        if num2 == 0:\n",
        "            print(\"Division by zero is not allowed.\")\n",
        "        else:\n",
        "            quotient = num1 // num2\n",
        "            remainder = num1 % num2\n",
        "\n",
        "            print(f\"The result of this division is {quotient} with a remainder of {remainder}\")\n",
        "    except ValueError:\n",
        "        print(\"Please enter valid integers.\")\n",
        "\n",
        "# Function call to run the program\n",
        "main()\n",
        "\n",
        "\n"
      ],
      "metadata": {
        "colab": {
          "base_uri": "https://localhost:8080/"
        },
        "id": "a3L17-GJt-oA",
        "outputId": "ec5cb71c-d6ec-4e17-a1b1-1fa52a326889"
      },
      "execution_count": null,
      "outputs": [
        {
          "output_type": "stream",
          "name": "stdout",
          "text": [
            "Please enter an integer to be divided: 5\n",
            "Please enter an integer to divide by: 0\n",
            "Division by zero is not allowed.\n"
          ]
        }
      ]
    },
    {
      "cell_type": "markdown",
      "source": [
        "#**06_Rolldice.md**"
      ],
      "metadata": {
        "id": "zVKj7iWbvEjX"
      }
    },
    {
      "cell_type": "code",
      "source": [
        "import random  # Required for simulating dice roll\n",
        "\n",
        "def main():\n",
        "    die1 = random.randint(1, 6)  # Roll first die\n",
        "    die2 = random.randint(1, 6)  # Roll second die\n",
        "\n",
        "    total = die1 + die2\n",
        "\n",
        "    print(f\"First die: {die1}\")\n",
        "    print(f\"Second die: {die2}\")\n",
        "    print(f\"Total of both dice: {total}\")\n",
        "\n",
        "# Call the main function to run the program\n",
        "main()\n"
      ],
      "metadata": {
        "colab": {
          "base_uri": "https://localhost:8080/"
        },
        "id": "ESFPN5f_vRdh",
        "outputId": "53defb55-0544-4882-db0e-ca6067b7e78e"
      },
      "execution_count": null,
      "outputs": [
        {
          "output_type": "stream",
          "name": "stdout",
          "text": [
            "First die: 6\n",
            "Second die: 4\n",
            "Total of both dice: 10\n"
          ]
        }
      ]
    },
    {
      "cell_type": "markdown",
      "source": [
        "#**06_seconds_in_year.md**"
      ],
      "metadata": {
        "id": "n3ToDr8ORQbQ"
      }
    },
    {
      "cell_type": "code",
      "source": [
        "def main():\n",
        "    # Define constants\n",
        "    DAYS_IN_YEAR = 365\n",
        "    HOURS_IN_DAY = 24\n",
        "    MINUTES_IN_HOUR = 60\n",
        "    SECONDS_IN_MINUTE = 60\n",
        "\n",
        "    # Calculate the total number of seconds in a year\n",
        "    seconds_in_year = DAYS_IN_YEAR * HOURS_IN_DAY * MINUTES_IN_HOUR * SECONDS_IN_MINUTE\n",
        "\n",
        "    # Print the result in a friendly format\n",
        "    print(f\"There are {seconds_in_year} seconds in a year!\")\n",
        "\n",
        "# Call the main function\n",
        "main()\n"
      ],
      "metadata": {
        "colab": {
          "base_uri": "https://localhost:8080/"
        },
        "id": "rIG7t17fRcSF",
        "outputId": "e41e6b67-6c9c-49ed-d1e7-2fad2fb34ff2"
      },
      "execution_count": null,
      "outputs": [
        {
          "output_type": "stream",
          "name": "stdout",
          "text": [
            "There are 31536000 seconds in a year!\n"
          ]
        }
      ]
    },
    {
      "cell_type": "markdown",
      "source": [],
      "metadata": {
        "id": "3-LfpgeuSb4g"
      }
    },
    {
      "cell_type": "markdown",
      "source": [
        "#**07_tiny_mad_lib.md**"
      ],
      "metadata": {
        "id": "HOY7f3cjSmFm"
      }
    },
    {
      "cell_type": "code",
      "source": [
        "def main():\n",
        "    # Constant start of the sentence\n",
        "    SENTENCE_START = \"Code in Place is fun. I learned to program and used Python to make my\"\n",
        "\n",
        "    # Prompt the user for words\n",
        "    adjective = input(\"Please type an adjective and press enter. \")\n",
        "    noun = input(\"Please type a noun and press enter. \")\n",
        "    verb = input(\"Please type a verb and press enter. \")\n",
        "\n",
        "    # Print the fun sentence\n",
        "    print(f\"{SENTENCE_START} {adjective} {noun} {verb}!\")\n",
        "\n",
        "# Call the main function\n",
        "main()\n"
      ],
      "metadata": {
        "colab": {
          "base_uri": "https://localhost:8080/"
        },
        "id": "O8fI1OpuSptV",
        "outputId": "972ee64a-ee13-460b-cc89-92029e31b218"
      },
      "execution_count": null,
      "outputs": [
        {
          "output_type": "stream",
          "name": "stdout",
          "text": [
            "Please type an adjective and press enter. hobby\n",
            "Please type a noun and press enter. fun\n",
            "Please type a verb and press enter. passion\n",
            "Code in Place is fun. I learned to program and used Python to make my hobby fun passion!\n"
          ]
        }
      ]
    }
  ]
}